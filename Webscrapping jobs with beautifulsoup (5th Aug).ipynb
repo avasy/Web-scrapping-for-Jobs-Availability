{
 "cells": [
  {
   "cell_type": "code",
   "execution_count": 1,
   "metadata": {},
   "outputs": [],
   "source": [
    "from selenium import webdriver\n",
    "from selenium.webdriver.common.keys import Keys\n",
    "from selenium.webdriver.support.select import Select\n",
    "import time\n",
    "import parsel\n",
    "import csv\n",
    "from bs4 import BeautifulSoup\n",
    "\n",
    "# specifies the path to the chromedriver.exe\n",
    "driver = webdriver.Chrome('/Users/shuyi/anaconda3/bin/chromedriver-binary')\n",
    "\n",
    "#reference_url = 'https://www.linkedin.com/pulse/how-easy-scraping-data-from-linkedin-profiles-david-craven'\n",
    "#reference_url = 'https://www.digitalocean.com/community/tutorials/how-to-scrape-web-pages-with-beautiful-soup-and-python-3'\n",
    "\n",
    "# driver.get method() will navigate to a page given by the URL address\n",
    "driver.get('https://www.linkedin.com/login')\n"
   ]
  },
  {
   "cell_type": "code",
   "execution_count": 2,
   "metadata": {
    "scrolled": true
   },
   "outputs": [],
   "source": [
    "#LOGIN TO LINKEDIN\n",
    "\n",
    "#locate email form by_class_name or id\n",
    "username = driver.find_element_by_id('username')\n",
    "\n",
    "#send_keys() to simulate key strokes\n",
    "username.send_keys('thebluezlabel@outlook.com')\n",
    "time.sleep(0.5) #add sleep to avoid detected as a bot \n",
    "\n",
    "#locate password form by_class_name \n",
    "password = driver.find_element_by_id('password')\n",
    "\n",
    "#send_keys() to simulate key strokes \n",
    "password.send_keys('Thebluezlabel10')\n",
    "time.sleep(0.5)\n",
    "\n",
    "#locate log in button by_xpath\n",
    "log_in_button = driver.find_element_by_xpath('//*[@type=\"submit\"]')\n",
    "\n",
    "#.click() to mimic a click button\n",
    "log_in_button.click()\n",
    "time.sleep(0.5)\n"
   ]
  },
  {
   "cell_type": "code",
   "execution_count": 3,
   "metadata": {},
   "outputs": [],
   "source": [
    "#Use Search Button to locate jobs \n",
    "\n",
    "driver.get('https://www.linkedin.com/jobs/')\n",
    "time.sleep(3)\n",
    "\n",
    "#locate search query on Linkedin Job Search \n",
    "search_query = driver.find_element_by_class_name('jobs-search-box__text-input')\n",
    "\n",
    "#Use send_keys() to simulate search query \n",
    "search_query.send_keys('Analyst')\n",
    "time.sleep(5)\n",
    "\n",
    "#locate search query on Linkedin Job Search Location\n",
    "search_query = driver.find_element_by_id('jobs-search-box-location-id-ember17')\n",
    "\n",
    "#Use send_keys() to simulate search query \n",
    "search_query.send_keys('Singapore')\n",
    "time.sleep(5)\n",
    "\n",
    "#Search Button \n",
    "search_button = driver.find_element_by_xpath('//*[@type=\"submit\"]')\n",
    "time.sleep(0.5)\n",
    "\n",
    "# .click() to simulate the return key \n",
    "search_button.click()\n",
    "time.sleep(0.5)\n"
   ]
  },
  {
   "cell_type": "code",
   "execution_count": null,
   "metadata": {},
   "outputs": [],
   "source": [
    "#Cite class for Linkedin Jobs - iUh30 bc tjvcx (*Use find elements*)\n",
    "linkedin_urls = driver.find_elements_by_class_name('iUh30')\n",
    "time.sleep(0.5)\n",
    "\n",
    "# variable linkedin_url is equal to the list comprehension \n",
    "linkedin_urls = [url.text for url in linkedin_urls]\n",
    "time.sleep(0.5)\n",
    "\n",
    "# to print all elements within our list \n",
    "print(linkedin_urls)\n",
    "time.sleep(0.5)\n"
   ]
  },
  {
   "cell_type": "code",
   "execution_count": null,
   "metadata": {},
   "outputs": [],
   "source": []
  }
 ],
 "metadata": {
  "kernelspec": {
   "display_name": "Python 3",
   "language": "python",
   "name": "python3"
  },
  "language_info": {
   "codemirror_mode": {
    "name": "ipython",
    "version": 3
   },
   "file_extension": ".py",
   "mimetype": "text/x-python",
   "name": "python",
   "nbconvert_exporter": "python",
   "pygments_lexer": "ipython3",
   "version": "3.7.3"
  }
 },
 "nbformat": 4,
 "nbformat_minor": 2
}
